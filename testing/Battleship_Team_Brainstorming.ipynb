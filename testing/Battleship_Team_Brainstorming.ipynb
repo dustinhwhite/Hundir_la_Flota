{
 "cells": [
  {
   "cell_type": "markdown",
   "metadata": {},
   "source": [
    "### Day 1. Team Brain storming notebook\n",
    "Battleship\n",
    "\n",
    "Welcome team!!\n",
    "\n",
    "Esto es un notebook de colaboración para el proyecto del Battleship para que probemos las ideas, diseño, implementación y pruebas. \n",
    "\n"
   ]
  },
  {
   "cell_type": "code",
   "execution_count": 2,
   "metadata": {},
   "outputs": [],
   "source": [
    "import numpy as np\n",
    "import random "
   ]
  },
  {
   "cell_type": "code",
   "execution_count": null,
   "metadata": {},
   "outputs": [],
   "source": [
    "# Tablero 10x10 \n",
    "tablero = [[0 for _ in range(10)] for _ in range(10)]\n",
    "tablero = np.full((10,10), \" \")\n",
    "\n",
    "print (tablero)\n",
    "\n",
    "# '''Podriamos crear un diccionario de letras_numeros?\n",
    "#  { 'A': 0,'B': 1,'C': 2, 'D': 3,\n",
    "# 'E': 4,'F': 5,'G':6, 'H':7, 'J':8, 'K':9}'''"
   ]
  },
  {
   "cell_type": "code",
   "execution_count": null,
   "metadata": {},
   "outputs": [],
   "source": [
    "# funcion para imprimir el tablero, es muy simple pero funciona\n",
    "def init_tablero():\n",
    "    tablero=np.full((10,10), \" \")\n",
    "    return tablero\n",
    "tablero = init_tablero()\n",
    "print(tablero)\n"
   ]
  },
  {
   "cell_type": "code",
   "execution_count": null,
   "metadata": {},
   "outputs": [],
   "source": [
    "# funcion para preguntar coordenadas al jugador"
   ]
  },
  {
   "cell_type": "code",
   "execution_count": null,
   "metadata": {},
   "outputs": [],
   "source": [
    "# funcion para disparar, lo mismo, nothing fancy, pero parece que va bien \n",
    "def disparo():\n",
    "    x = int( input(\"entra eje x: \"))\n",
    "    y= int(input(\"entra eje y: \"))\n",
    "\n",
    "    if tablero [x,y] == \"0\":\n",
    "        tablero[x,y]== \"X\"\n",
    "        print(\"Tocado,try again\")\n",
    "    elif tablero[x,y] == \" \":\n",
    "        tablero[x,y] = \"*\"\n",
    "        print(\"Agua\")\n",
    "        print(tablero)\n",
    "\n",
    "    elif tablero[x,y] == \"X\":\n",
    "        print(\"disparo repetido, try again\")\n",
    "        print(tablero)\n",
    "    elif tablero[x,y] == \"-\":\n",
    "        print(\"disparo repetido,try again\")\n",
    "disparo()"
   ]
  },
  {
   "cell_type": "code",
   "execution_count": null,
   "metadata": {},
   "outputs": [],
   "source": [
    "# funcion para posicionar barcos aleatoriamente\n",
    "\n",
    "tablero = [[0 for _ in range(10)] for _ in range(10)]\n",
    "\n",
    "# 4 de 1 posición, \n",
    "''' el bucle  se repite 4 veces, \n",
    "genera un aleatorio 0-9 para fila y otro para columna,\n",
    "luego verifica que el valor no es 0(!=0), y while esta vacio:\n",
    "sigue asignando hasta que completa las 4 vueltas'''\n",
    "\n",
    "for i in range(4):\n",
    "    fila = random.randint(0, 9)\n",
    "    columna = random.randint(0, 9)\n",
    "    while tablero[fila][columna] != 0:\n",
    "        fila = random.randint(0, 9)\n",
    "        columna = random.randint(0, 9)\n",
    "    tablero[fila][columna] = 1\n",
    "\n",
    "# 3 de 2 posiciones\n",
    "\n",
    "''' para los restantes casos \n",
    "hay que colorcarlo suficientes \n",
    "celdas vacías consecutivas.\n",
    " para evitar que se superpongan con otro barco,\n",
    "   o se quede out of range.\n",
    "     en este caso, como minimo 2 celdas consecutivas:\n",
    "   (columna = random.randint(0, 8)\n",
    "   '''\n",
    "\n",
    "for i in range(3):\n",
    "    fila = random.randint(0, 9)\n",
    "    columna = random.randint(0, 8)\n",
    "    while any(tablero[fila][columna:columna+2]):\n",
    "        fila = random.randint(0, 9)\n",
    "        columna = random.randint(0, 8)\n",
    "    tablero[fila][columna:columna+2] = [2, 2]\n",
    "\n",
    "# 2 de 3 posiciones / minimo necesitamos 3 celdas consecutivas libres\n",
    "for i in range(2):\n",
    "    fila = random.randint(0, 9)\n",
    "    columna = random.randint(0, 7)\n",
    "    while any(tablero[fila][columna:columna+3]):\n",
    "        fila = random.randint(0, 9)\n",
    "        columna = random.randint(0, 7)\n",
    "    tablero[fila][columna:columna+3] = [3, 3, 3]\n",
    "\n",
    "# 1 de 4 posiciones / 4 celdas libres consecutivas\n",
    "\n",
    "fila = random.randint(0, 9)\n",
    "columna = random.randint(0, 6)\n",
    "while any(tablero[fila][columna:columna+4]):\n",
    "    fila = random.randint(0, 9)\n",
    "    columna = random.randint(0, 6)\n",
    "tablero[fila][columna:columna+4] = [4, 4, 4, 4]\n",
    "\n",
    "# Imprimir el tablero\n",
    "for fila in tablero:\n",
    "    print(fila)"
   ]
  }
 ],
 "metadata": {
  "kernelspec": {
   "display_name": "Python 3",
   "language": "python",
   "name": "python3"
  },
  "language_info": {
   "codemirror_mode": {
    "name": "ipython",
    "version": 3
   },
   "file_extension": ".py",
   "mimetype": "text/x-python",
   "name": "python",
   "nbconvert_exporter": "python",
   "pygments_lexer": "ipython3",
   "version": "3.11.4"
  }
 },
 "nbformat": 4,
 "nbformat_minor": 2
}
