{
 "cells": [
  {
   "cell_type": "code",
   "execution_count": 2,
   "metadata": {},
   "outputs": [],
   "source": [
    "#  variables \n",
    "HIT_CHAR= \"X\"\n",
    "MISS_CHAR= \"O\"\n",
    "BLANK_CHAR= \" \""
   ]
  },
  {
   "cell_type": "code",
   "execution_count": 1,
   "metadata": {},
   "outputs": [],
   "source": [
    "def get_guess(self):\n",
    "    \"\"\"Prompts the user for a row and column to attack. The\n",
    "    return value is a board position in (row, column) format.\n",
    "    \"\"\"\n",
    "    row = input(\"Enter a row (A-J): \").upper()\n",
    "    col = int(input(\"Enter a column (0-9): \"))\n",
    "    return (row, col)"
   ]
  },
  {
   "cell_type": "code",
   "execution_count": 3,
   "metadata": {},
   "outputs": [],
   "source": [
    "def check_guess(self, position):\n",
    "    \"\"\"Checks whether or not position is occupied by a ship. A hit is\n",
    "    registered when position occupied by a ship and position not hit\n",
    "    previously. A miss occurs otherwise.\n",
    "    :param position: a (row,column) tuple guessed by user\n",
    "    :return: guess_status: True when guess results in hit, False when guess results \n",
    "    \"\"\"\n",
    "    row, col = position\n",
    "    if self.board[row][col] == HIT_CHAR:\n",
    "        print(\"Hit already, try again!\")\n",
    "        return False\n",
    "    elif self.board[row][col] == BLANK_CHAR:\n",
    "        print(\"Missed!\")\n",
    "        self.board[row][col] = MISS_CHAR\n",
    "        return False\n",
    "    else:\n",
    "        print(\"Hit!\")\n",
    "        self.board[row][col] = HIT_CHAR\n",
    "        return True"
   ]
  },
  {
   "cell_type": "code",
   "execution_count": 4,
   "metadata": {},
   "outputs": [],
   "source": [
    "def update_game(self, guess_status, position):\n",
    "    \"\"\"Updates the game by modifying the board with a hit or miss\n",
    "    symbol based on guess_status of position.\n",
    "    :param guess_status: True when position is a hit, False otherwise\n",
    "    :param position:  a (row,column) tuple guessed by user\n",
    "    :return: None\n",
    "    \"\"\"\n",
    "    row, col = position\n",
    "    if guess_status:\n",
    "        self.board[row][col] = HIT_CHAR\n",
    "        print(\"Hit!\")\n",
    "    else:\n",
    "        self.board[row][col] = MISS_CHAR\n",
    "        print(\"Missed!\")"
   ]
  }
 ],
 "metadata": {
  "kernelspec": {
   "display_name": "Python 3",
   "language": "python",
   "name": "python3"
  },
  "language_info": {
   "codemirror_mode": {
    "name": "ipython",
    "version": 3
   },
   "file_extension": ".py",
   "mimetype": "text/x-python",
   "name": "python",
   "nbconvert_exporter": "python",
   "pygments_lexer": "ipython3",
   "version": "3.11.4"
  }
 },
 "nbformat": 4,
 "nbformat_minor": 2
}
