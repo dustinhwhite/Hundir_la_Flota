{
 "cells": [
  {
   "cell_type": "code",
   "execution_count": 38,
   "metadata": {},
   "outputs": [
    {
     "name": "stdout",
     "output_type": "stream",
     "text": [
      "\n",
      "         YOUR BOATS                      YOUR SHOOTS\n",
      "     A B C D E F G H I J              A B C D E F G H I J \n",
      " 1 | ~ ~ ~ ~ ~ ~ ~ ~ ~ ~ |        1 | ~ ~ ~ ~ ~ ~ ~ ~ ~ ~ |\n",
      " 2 | ~ ~ ~ ~ ~ ~ ~ ~ ~ ~ |        2 | ~ ~ ~ ~ ~ ~ ~ ~ ~ ~ |\n",
      " 3 | ~ ~ ~ ~ ~ ~ ~ ~ ~ ~ |        3 | ~ ~ ~ ~ ~ ~ ~ ~ ~ ~ |\n",
      " 4 | ~ ~ ~ ~ ~ ~ ~ B B ~ |        4 | ~ ~ ~ ~ ~ ~ ~ B B ~ |\n",
      " 5 | ~ ~ ~ ~ ~ ~ ~ ~ ~ ~ |        5 | ~ ~ ~ ~ ~ ~ ~ ~ ~ ~ |\n",
      " 6 | B ~ B ~ ~ ~ ~ ~ B ~ |        6 | B ~ B ~ ~ ~ ~ ~ B ~ |\n",
      " 7 | B ~ B B B ~ ~ ~ B ~ |        7 | B ~ B B B ~ ~ ~ B ~ |\n",
      " 8 | B B B ~ B ~ ~ ~ B ~ |        8 | B B B ~ B ~ ~ ~ B ~ |\n",
      " 9 | B ~ ~ ~ ~ ~ B ~ ~ ~ |        9 | B ~ ~ ~ ~ ~ B ~ ~ ~ |\n",
      "10 | ~ ~ ~ B B ~ ~ ~ B ~ |       10 | ~ ~ ~ B B ~ ~ ~ B ~ |\n",
      "\n"
     ]
    }
   ],
   "source": [
    "# TEST EPIC_BRANCH_1\n",
    "from classes import Board\n",
    "import variables\n",
    "import funciones\n",
    "'''\n",
    "    Testing the merge (Dustin_Tarea1 + Bea_Tarea3):\n",
    "        Check if the boards have been initialized correctly. \n",
    "        Check if all the ships are placed on the board randomly and following the rules.\n",
    "        Check that the player boards are printed on the screen\n",
    "'''\n",
    "board_game = Board()\n",
    "board_game.place_all_boats()\n",
    "display_boards(board_game.board, board_game.board)\n",
    "\n"
   ]
  }
 ],
 "metadata": {
  "kernelspec": {
   "display_name": "Python 3",
   "language": "python",
   "name": "python3"
  },
  "language_info": {
   "codemirror_mode": {
    "name": "ipython",
    "version": 3
   },
   "file_extension": ".py",
   "mimetype": "text/x-python",
   "name": "python",
   "nbconvert_exporter": "python",
   "pygments_lexer": "ipython3",
   "version": "3.11.4"
  }
 },
 "nbformat": 4,
 "nbformat_minor": 2
}
