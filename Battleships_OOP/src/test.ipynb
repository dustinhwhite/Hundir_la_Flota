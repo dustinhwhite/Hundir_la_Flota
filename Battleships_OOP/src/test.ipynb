{
 "cells": [
  {
   "cell_type": "code",
   "execution_count": 5,
   "metadata": {},
   "outputs": [
    {
     "name": "stdout",
     "output_type": "stream",
     "text": [
      "[['0' '0' '0' '0' '0' '⛴' '⛴' '0' '0' '0']\n",
      " ['0' '0' '0' '⛴' '0' '0' '⛴' '⛴' '⛴' '⛴']\n",
      " ['0' '0' '0' '0' '0' '0' '0' '0' '0' '0']\n",
      " ['0' '0' '⛴' '0' '0' '0' '0' '0' '0' '0']\n",
      " ['0' '0' '0' '0' '0' '⛴' '⛴' '⛴' '0' '0']\n",
      " ['0' '0' '0' '0' '0' '0' '0' '0' '0' '0']\n",
      " ['0' '0' '0' '0' '0' '0' '0' '0' '0' '0']\n",
      " ['0' '0' '⛴' '0' '0' '0' '0' '0' '0' '0']\n",
      " ['0' '⛴' '⛴' '⛴' '⛴' '0' '0' '0' '0' '0']\n",
      " ['0' '⛴' '⛴' '⛴' '0' '0' '0' '0' '⛴' '0']]\n"
     ]
    }
   ],
   "source": [
    "from tablero import Board\n",
    "\n",
    "board_game = Board()\n",
    "board_game.place_all_boats()\n",
    "board_game.display_board()"
   ]
  }
 ],
 "metadata": {
  "kernelspec": {
   "display_name": "Python 3",
   "language": "python",
   "name": "python3"
  },
  "language_info": {
   "codemirror_mode": {
    "name": "ipython",
    "version": 3
   },
   "file_extension": ".py",
   "mimetype": "text/x-python",
   "name": "python",
   "nbconvert_exporter": "python",
   "pygments_lexer": "ipython3",
   "version": "3.11.4"
  }
 },
 "nbformat": 4,
 "nbformat_minor": 2
}
